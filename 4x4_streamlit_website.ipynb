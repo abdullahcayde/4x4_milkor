{
 "cells": [
  {
   "cell_type": "code",
   "execution_count": null,
   "id": "9c2b262f-144f-4d4a-af75-d66ee5e2cc2d",
   "metadata": {},
   "outputs": [],
   "source": [
    "# ------------------------------ Streamlit MyWebsite Project 02 ------------------------------\n",
    "#Project_Date : 04.08.2022\n",
    "#Project Purpose : Make a website with streamlit dictionary\n",
    "#Project Process :\n",
    "    #0 -  Install and Import Packages (streamlit, Pillow, streamlit_lottie)\n",
    "    #1 - Set Page Configrations title, icon, layout\n",
    "    #2 - Use Local Css to config. Website (create style directory)\n",
    "    #3 - Load Assets (lottie, images) (Create images directory and put the images here)\n",
    "    # 4 - Header Section01\n",
    "    # 5- What I do Section02"
   ]
  },
  {
   "cell_type": "code",
   "execution_count": 2,
   "id": "32d759f9-58e2-4582-a31f-65a9ef5c11a4",
   "metadata": {},
   "outputs": [],
   "source": [
    "import pandas as pd\n",
    "import numpy as np\n",
    "import seaborn as sns\n",
    "import os\n",
    "\n",
    "import streamlit as st\n",
    "import requests\n",
    "#from streamlit_lottie import st_lottie\n",
    "#from PIL import Image\n",
    "\n",
    "\n",
    "# 1 - Set Page Configrations\n",
    "st.set_page_config(page_title=\"My Webpage\", page_icon=\":tada:\", layout=\"wide\")"
   ]
  },
  {
   "cell_type": "code",
   "execution_count": 3,
   "id": "51c90e34-fc0b-4b4b-9597-84c7110f34a6",
   "metadata": {},
   "outputs": [
    {
     "data": {
      "text/plain": [
       "'/Users/macbook/Desktop/projects/Github_Repositories/Trainings/4x4_streamlit_website'"
      ]
     },
     "execution_count": 3,
     "metadata": {},
     "output_type": "execute_result"
    }
   ],
   "source": [
    "pwd"
   ]
  },
  {
   "cell_type": "code",
   "execution_count": null,
   "id": "5636a485-79df-43aa-bdaf-1c734ce65cd5",
   "metadata": {},
   "outputs": [],
   "source": []
  }
 ],
 "metadata": {
  "kernelspec": {
   "display_name": "Python 3 (ipykernel)",
   "language": "python",
   "name": "python3"
  },
  "language_info": {
   "codemirror_mode": {
    "name": "ipython",
    "version": 3
   },
   "file_extension": ".py",
   "mimetype": "text/x-python",
   "name": "python",
   "nbconvert_exporter": "python",
   "pygments_lexer": "ipython3",
   "version": "3.9.12"
  }
 },
 "nbformat": 4,
 "nbformat_minor": 5
}
